{
 "cells": [
  {
   "cell_type": "code",
   "execution_count": 2,
   "id": "3d09193e",
   "metadata": {},
   "outputs": [],
   "source": [
    "import http.client\n",
    "import json\n",
    "import pandas as pd\n",
    "from pymongo import MongoClient"
   ]
  },
  {
   "cell_type": "code",
   "execution_count": 3,
   "id": "097fb0ac",
   "metadata": {},
   "outputs": [],
   "source": [
    "\n",
    "\n",
    "def fetch_and_save_api_data(file_name, api_url, endpoint, headers):\n",
    "    \"\"\"Fetch data from an API endpoint and save it to a JSON file.\"\"\"\n",
    "    conn = http.client.HTTPSConnection(api_url)\n",
    "    try:\n",
    "        conn.request(\"GET\", endpoint, headers=headers)\n",
    "        response = conn.getresponse()\n",
    "        data = json.loads(response.read().decode(\"utf-8\"))\n",
    "        with open(file_name, 'w') as f:\n",
    "            json.dump(data, f, indent=4)\n",
    "        print(f\"Data successfully saved to {file_name}\")\n",
    "        return file_name\n",
    "    except Exception as e:\n",
    "        print(f\"Failed to fetch and save data: {e}\")\n",
    "        return None\n",
    "\n",
    "def upload_data_to_mongodb(file_name, db_name, collection_name, file_type='json'):\n",
    "    \"\"\"Upload data from a file directly to a MongoDB collection.\"\"\"\n",
    "    try:\n",
    "        client = MongoClient('mongodb://localhost:27017/')\n",
    "        db = client[db_name]\n",
    "        collection = db[collection_name]\n",
    "        \n",
    "        # Read data based on file type\n",
    "        if file_type == 'json':\n",
    "            with open(file_name, 'r') as file:\n",
    "                data = json.load(file)\n",
    "        elif file_type == 'csv':\n",
    "            df = pd.read_csv(file_name)\n",
    "            data = df.to_dict('records')\n",
    "        else:\n",
    "            raise ValueError(\"Unsupported file type. Use 'json' or 'csv'.\")\n",
    "\n",
    "        # Insert data into MongoDB\n",
    "        if isinstance(data, list):\n",
    "            collection.insert_many(data)\n",
    "        else:\n",
    "            collection.insert_one(data)\n",
    "        print(f\"Data successfully uploaded to MongoDB in the '{collection_name}' collection\")\n",
    "    except Exception as e:\n",
    "        print(f\"Failed to upload data to MongoDB from file {file_name}: {e}\")\n",
    "\n",
    "# Example of how to use the function correctly\n",
    "\n"
   ]
  },
  {
   "cell_type": "code",
   "execution_count": 7,
   "id": "31ddd498",
   "metadata": {},
   "outputs": [
    {
     "name": "stdout",
     "output_type": "stream",
     "text": [
      "Failed to fetch and save data: Expecting value: line 1 column 1 (char 0)\n"
     ]
    }
   ],
   "source": [
    "# Block for DrugsOverDose Collection\n",
    "headers = {\n",
    "    'X-RapidAPI-Key': \"02ffe3eedcmsh472575185a8e638p1f6d68jsneffb8f95f5c7\",\n",
    "    'X-RapidAPI-Host': \"drug-overdose-death.p.rapidapi.com\"\n",
    "}\n",
    "drug_file = fetch_and_save_api_data('drug_overdose.json', 'drug-overdose-death.p.rapidapi.com', \"/records?orderBy=dataListIndex_asc&limit=500\", headers)\n",
    "if drug_file:\n",
    "    upload_data_to_mongodb(drug_file, 'HealthCare', 'DrugsOverDose')"
   ]
  },
  {
   "cell_type": "code",
   "execution_count": 4,
   "id": "5d2a8449",
   "metadata": {},
   "outputs": [
    {
     "name": "stdout",
     "output_type": "stream",
     "text": [
      "Data successfully uploaded to MongoDB in the 'DeathRelatedDrug' collection\n"
     ]
    }
   ],
   "source": [
    "."
   ]
  },
  {
   "cell_type": "code",
   "execution_count": 6,
   "id": "c27d0b83",
   "metadata": {},
   "outputs": [
    {
     "name": "stdout",
     "output_type": "stream",
     "text": [
      "Data successfully uploaded to MongoDB in the 'AppointmentDetails' collection\n"
     ]
    }
   ],
   "source": [
    "# Block for AppointmentDetails Collection\n",
    "\n",
    "upload_data_to_mongodb('appointment_details.csv', 'HealthCare', 'AppointmentDetails', 'csv')"
   ]
  },
  {
   "cell_type": "code",
   "execution_count": null,
   "id": "eda8d67c",
   "metadata": {},
   "outputs": [],
   "source": []
  }
 ],
 "metadata": {
  "kernelspec": {
   "display_name": "Python 3 (ipykernel)",
   "language": "python",
   "name": "python3"
  },
  "language_info": {
   "codemirror_mode": {
    "name": "ipython",
    "version": 3
   },
   "file_extension": ".py",
   "mimetype": "text/x-python",
   "name": "python",
   "nbconvert_exporter": "python",
   "pygments_lexer": "ipython3",
   "version": "3.11.5"
  }
 },
 "nbformat": 4,
 "nbformat_minor": 5
}
